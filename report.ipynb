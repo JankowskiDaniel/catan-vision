{
 "cells": [
  {
   "attachments": {},
   "cell_type": "markdown",
   "metadata": {},
   "source": [
    "# Computer Vision - Project 2 #\n",
    "\n",
    "Daniel Jankowski, 148257 <br>\n",
    "Łukasz Kosturski, 148279 <br>\n",
    "\n",
    "## Catan - board game ##\n",
    "\n",
    "Catan is a board game for two to four players in which you compete to gather resources and build the biggest settlements on the fictional island of Catan. It takes approximately one hour to play.\n",
    "\n",
    "![catan](data\\screenshots\\catan-board-game-layout.jpg \"Catan layout\")\n",
    "\n",
    "## In-game items ##\n",
    "\n",
    "<ul>\n",
    "    <li><b> Board </b></li>\n",
    "        <img src=\"data\\screenshots\\board.jpg\" width=400>\n",
    "    <li><b> Resource cards </b> </li>\n",
    "        <img src=\"data\\screenshots\\resources.jpg\" width=400>\n",
    "    <li><b> Buildings </b> </li>\n",
    "    <li><b> Dices </b> </li>\n",
    "        <img src=\"data\\screenshots\\dices.jpg\" width=400>\n",
    "\n"
   ]
  },
  {
   "attachments": {},
   "cell_type": "markdown",
   "metadata": {},
   "source": [
    "## Events occur in the game ##\n",
    "\n",
    "#TODO"
   ]
  },
  {
   "attachments": {},
   "cell_type": "markdown",
   "metadata": {},
   "source": [
    "## Dataset ##"
   ]
  },
  {
   "attachments": {},
   "cell_type": "markdown",
   "metadata": {},
   "source": [
    "### Easy dataset ###"
   ]
  },
  {
   "cell_type": "code",
   "execution_count": 1,
   "metadata": {},
   "outputs": [
    {
     "data": {
      "text/html": [
       "<video src=\"data/easy/catan_easy_1.mp4\" controls  width=\"360\" >\n",
       "      Your browser does not support the <code>video</code> element.\n",
       "    </video>"
      ],
      "text/plain": [
       "<IPython.core.display.Video object>"
      ]
     },
     "execution_count": 1,
     "metadata": {},
     "output_type": "execute_result"
    }
   ],
   "source": [
    "from IPython.display import Video\n",
    "\n",
    "Video(\"data/easy/catan_easy_1.mp4\", width=360)"
   ]
  },
  {
   "attachments": {},
   "cell_type": "markdown",
   "metadata": {},
   "source": [
    "## 1. Detecting cards holding by each player ##\n"
   ]
  },
  {
   "attachments": {},
   "cell_type": "markdown",
   "metadata": {},
   "source": [
    "\n",
    "First event which we detect and track is number and type of resource cards held by each player. <br>\n",
    "\n",
    "Intermediate steps:\n",
    "<ol>\n",
    "    <li> Detection of red and blue frames in which cards are put </li><br>\n",
    "    <img src=\"data\\screenshots\\cards-frames.png\" width=400><br>\n",
    "    <li> Detection of resource cards inside the frames </li><br>\n",
    "    <img src=\"data\\screenshots\\cards-detection.png\"><br>\n",
    "    <li> Card type detection based on mean color inside of the rectangle</li>"
   ]
  },
  {
   "attachments": {},
   "cell_type": "markdown",
   "metadata": {},
   "source": [
    "### Results ###"
   ]
  },
  {
   "cell_type": "code",
   "execution_count": 4,
   "metadata": {},
   "outputs": [
    {
     "data": {
      "text/html": [
       "<video src=\"data/results/resource-detection.mp4\" controls  width=\"360\" >\n",
       "      Your browser does not support the <code>video</code> element.\n",
       "    </video>"
      ],
      "text/plain": [
       "<IPython.core.display.Video object>"
      ]
     },
     "execution_count": 4,
     "metadata": {},
     "output_type": "execute_result"
    }
   ],
   "source": [
    "from IPython.display import Video\n",
    "\n",
    "Video(\"data/results/resource-detection.mp4\", width=360)"
   ]
  },
  {
   "cell_type": "markdown",
   "metadata": {},
   "source": []
  }
 ],
 "metadata": {
  "kernelspec": {
   "display_name": "base",
   "language": "python",
   "name": "python3"
  },
  "language_info": {
   "codemirror_mode": {
    "name": "ipython",
    "version": 3
   },
   "file_extension": ".py",
   "mimetype": "text/x-python",
   "name": "python",
   "nbconvert_exporter": "python",
   "pygments_lexer": "ipython3",
   "version": "3.9.12"
  },
  "orig_nbformat": 4,
  "vscode": {
   "interpreter": {
    "hash": "83b7306612463b8ce62aa8cf15caec34be977b39f148b1fffc59f78ab402fac8"
   }
  }
 },
 "nbformat": 4,
 "nbformat_minor": 2
}
